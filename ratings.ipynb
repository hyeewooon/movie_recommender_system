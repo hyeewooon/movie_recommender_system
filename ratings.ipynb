{
 "cells": [
  {
   "cell_type": "code",
   "execution_count": 1,
   "metadata": {},
   "outputs": [],
   "source": [
    "import pandas as pd"
   ]
  },
  {
   "cell_type": "code",
   "execution_count": 2,
   "metadata": {},
   "outputs": [
    {
     "data": {
      "text/html": [
       "<div>\n",
       "<style scoped>\n",
       "    .dataframe tbody tr th:only-of-type {\n",
       "        vertical-align: middle;\n",
       "    }\n",
       "\n",
       "    .dataframe tbody tr th {\n",
       "        vertical-align: top;\n",
       "    }\n",
       "\n",
       "    .dataframe thead th {\n",
       "        text-align: right;\n",
       "    }\n",
       "</style>\n",
       "<table border=\"1\" class=\"dataframe\">\n",
       "  <thead>\n",
       "    <tr style=\"text-align: right;\">\n",
       "      <th></th>\n",
       "      <th>userId</th>\n",
       "      <th>movieId</th>\n",
       "      <th>rating</th>\n",
       "      <th>timestamp</th>\n",
       "    </tr>\n",
       "  </thead>\n",
       "  <tbody>\n",
       "    <tr>\n",
       "      <th>65356</th>\n",
       "      <td>419</td>\n",
       "      <td>2858</td>\n",
       "      <td>4.0</td>\n",
       "      <td>1322305038</td>\n",
       "    </tr>\n",
       "  </tbody>\n",
       "</table>\n",
       "</div>"
      ],
      "text/plain": [
       "       userId  movieId  rating   timestamp\n",
       "65356     419     2858     4.0  1322305038"
      ]
     },
     "execution_count": 2,
     "metadata": {},
     "output_type": "execute_result"
    }
   ],
   "source": [
    "ratings = pd.read_csv('./data/ml-latest-small/ratings.csv')\n",
    "ratings.sample()"
   ]
  },
  {
   "cell_type": "code",
   "execution_count": 3,
   "metadata": {},
   "outputs": [
    {
     "data": {
      "text/plain": [
       "(100836, 4)"
      ]
     },
     "execution_count": 3,
     "metadata": {},
     "output_type": "execute_result"
    }
   ],
   "source": [
    "ratings.shape #100836개의 데이터"
   ]
  },
  {
   "cell_type": "code",
   "execution_count": 8,
   "metadata": {},
   "outputs": [
    {
     "name": "stdout",
     "output_type": "stream",
     "text": [
      "610\n",
      "9724\n"
     ]
    }
   ],
   "source": [
    "print(len(ratings['userId'].unique())) # 610명의 유저 데이터\n",
    "print(len(ratings['movieId'].unique())) # 9724개의 영화 데이터"
   ]
  },
  {
   "cell_type": "code",
   "execution_count": 11,
   "metadata": {},
   "outputs": [
    {
     "data": {
      "text/plain": [
       "count    100836.000000\n",
       "mean          3.501557\n",
       "std           1.042529\n",
       "min           0.500000\n",
       "25%           3.000000\n",
       "50%           3.500000\n",
       "75%           4.000000\n",
       "max           5.000000\n",
       "Name: rating, dtype: float64"
      ]
     },
     "execution_count": 11,
     "metadata": {},
     "output_type": "execute_result"
    }
   ],
   "source": [
    "ratings['rating'].describe()"
   ]
  },
  {
   "cell_type": "code",
   "execution_count": 13,
   "metadata": {},
   "outputs": [],
   "source": [
    "%matplotlib inline"
   ]
  },
  {
   "cell_type": "code",
   "execution_count": 14,
   "metadata": {},
   "outputs": [
    {
     "data": {
      "text/plain": [
       "<AxesSubplot:>"
      ]
     },
     "execution_count": 14,
     "metadata": {},
     "output_type": "execute_result"
    },
    {
     "data": {
      "image/png": "[encoded data removed]",
      "text/plain": [
       "<Figure size 432x288 with 1 Axes>"
      ]
     },
     "metadata": {
      "needs_background": "light"
     },
     "output_type": "display_data"
    }
   ],
   "source": [
    "ratings['rating'].hist()"
   ]
  },
  {
   "cell_type": "markdown",
   "metadata": {},
   "source": [
    "### 사람들은 평균적으로 몇 개의 영화에 대해서 rating을 남겼는가?"
   ]
  },
  {
   "cell_type": "code",
   "execution_count": 20,
   "metadata": {},
   "outputs": [
    {
     "data": {
      "text/plain": [
       "userId\n",
       "1    232\n",
       "2     29\n",
       "3     39\n",
       "4    216\n",
       "5     44\n",
       "Name: movieId, dtype: int64"
      ]
     },
     "execution_count": 20,
     "metadata": {},
     "output_type": "execute_result"
    }
   ],
   "source": [
    "users = ratings.groupby('userId')['movieId'].count()\n",
    "users[:5]"
   ]
  },
  {
   "cell_type": "code",
   "execution_count": 21,
   "metadata": {},
   "outputs": [
    {
     "data": {
      "text/plain": [
       "count     610.000000\n",
       "mean      165.304918\n",
       "std       269.480584\n",
       "min        20.000000\n",
       "25%        35.000000\n",
       "50%        70.500000\n",
       "75%       168.000000\n",
       "max      2698.000000\n",
       "Name: movieId, dtype: float64"
      ]
     },
     "execution_count": 21,
     "metadata": {},
     "output_type": "execute_result"
    }
   ],
   "source": [
    "users.describe() # 610명의 유저가 평균적으로 165개의 평점을 남겼다. \n",
    "# 중간값은 70개(?)"
   ]
  },
  {
   "cell_type": "code",
   "execution_count": 24,
   "metadata": {},
   "outputs": [],
   "source": [
    "import seaborn as sns"
   ]
  },
  {
   "cell_type": "code",
   "execution_count": 25,
   "metadata": {},
   "outputs": [
    {
     "data": {
      "text/plain": [
       "<AxesSubplot:>"
      ]
     },
     "execution_count": 25,
     "metadata": {},
     "output_type": "execute_result"
    },
    {
     "data": {
      "image/png": "[encoded data removed]",
      "text/plain": [
       "<Figure size 432x288 with 1 Axes>"
      ]
     },
     "metadata": {
      "needs_background": "light"
     },
     "output_type": "display_data"
    }
   ],
   "source": [
    "# power law distribution, 멱함수 분포\n",
    "sns.distplot(users.values)"
   ]
  },
  {
   "cell_type": "markdown",
   "metadata": {},
   "source": [
    "### 사람들이 많이 보는 영화는?"
   ]
  },
  {
   "cell_type": "code",
   "execution_count": 27,
   "metadata": {},
   "outputs": [
    {
     "data": {
      "text/plain": [
       "movieId\n",
       "1    215\n",
       "2    110\n",
       "3     52\n",
       "4      7\n",
       "5     49\n",
       "Name: userId, dtype: int64"
      ]
     },
     "execution_count": 27,
     "metadata": {},
     "output_type": "execute_result"
    }
   ],
   "source": [
    "films = ratings.groupby('movieId')['userId'].count()\n",
    "films[:5]"
   ]
  },
  {
   "cell_type": "code",
   "execution_count": 28,
   "metadata": {},
   "outputs": [
    {
     "data": {
      "text/plain": [
       "count    9724.000000\n",
       "mean       10.369807\n",
       "std        22.401005\n",
       "min         1.000000\n",
       "25%         1.000000\n",
       "50%         3.000000\n",
       "75%         9.000000\n",
       "max       329.000000\n",
       "Name: userId, dtype: float64"
      ]
     },
     "execution_count": 28,
     "metadata": {},
     "output_type": "execute_result"
    }
   ],
   "source": [
    "films.describe()"
   ]
  },
  {
   "cell_type": "code",
   "execution_count": 29,
   "metadata": {},
   "outputs": [
    {
     "data": {
      "text/plain": [
       "<AxesSubplot:>"
      ]
     },
     "execution_count": 29,
     "metadata": {},
     "output_type": "execute_result"
    },
    {
     "data": {
      "image/png": "[encoded data removed]",
      "text/plain": [
       "<Figure size 432x288 with 1 Axes>"
      ]
     },
     "metadata": {
      "needs_background": "light"
     },
     "output_type": "display_data"
    }
   ],
   "source": [
    "# 소수의 영화만 많이 소비됨.\n",
    "sns.distplot(films.values)"
   ]
  },
  {
   "cell_type": "code",
   "execution_count": 32,
   "metadata": {},
   "outputs": [
    {
     "data": {
      "text/plain": [
       "movieId\n",
       "356     329\n",
       "318     317\n",
       "296     307\n",
       "593     279\n",
       "2571    278\n",
       "Name: userId, dtype: int64"
      ]
     },
     "execution_count": 32,
     "metadata": {},
     "output_type": "execute_result"
    }
   ],
   "source": [
    "films.sort_values(ascending=False)[:5]"
   ]
  },
  {
   "cell_type": "code",
   "execution_count": 33,
   "metadata": {},
   "outputs": [],
   "source": [
    "movies = pd.read_csv('./data/ml-latest-small/movies.csv', index_col='movieId')"
   ]
  },
  {
   "cell_type": "code",
   "execution_count": 38,
   "metadata": {},
   "outputs": [
    {
     "data": {
      "text/html": [
       "<div>\n",
       "<style scoped>\n",
       "    .dataframe tbody tr th:only-of-type {\n",
       "        vertical-align: middle;\n",
       "    }\n",
       "\n",
       "    .dataframe tbody tr th {\n",
       "        vertical-align: top;\n",
       "    }\n",
       "\n",
       "    .dataframe thead th {\n",
       "        text-align: right;\n",
       "    }\n",
       "</style>\n",
       "<table border=\"1\" class=\"dataframe\">\n",
       "  <thead>\n",
       "    <tr style=\"text-align: right;\">\n",
       "      <th></th>\n",
       "      <th>title</th>\n",
       "      <th>genres</th>\n",
       "    </tr>\n",
       "    <tr>\n",
       "      <th>movieId</th>\n",
       "      <th></th>\n",
       "      <th></th>\n",
       "    </tr>\n",
       "  </thead>\n",
       "  <tbody>\n",
       "    <tr>\n",
       "      <th>356</th>\n",
       "      <td>Forrest Gump (1994)</td>\n",
       "      <td>Comedy|Drama|Romance|War</td>\n",
       "    </tr>\n",
       "    <tr>\n",
       "      <th>318</th>\n",
       "      <td>Shawshank Redemption, The (1994)</td>\n",
       "      <td>Crime|Drama</td>\n",
       "    </tr>\n",
       "    <tr>\n",
       "      <th>296</th>\n",
       "      <td>Pulp Fiction (1994)</td>\n",
       "      <td>Comedy|Crime|Drama|Thriller</td>\n",
       "    </tr>\n",
       "    <tr>\n",
       "      <th>593</th>\n",
       "      <td>Silence of the Lambs, The (1991)</td>\n",
       "      <td>Crime|Horror|Thriller</td>\n",
       "    </tr>\n",
       "    <tr>\n",
       "      <th>2571</th>\n",
       "      <td>Matrix, The (1999)</td>\n",
       "      <td>Action|Sci-Fi|Thriller</td>\n",
       "    </tr>\n",
       "  </tbody>\n",
       "</table>\n",
       "</div>"
      ],
      "text/plain": [
       "                                    title                       genres\n",
       "movieId                                                               \n",
       "356                   Forrest Gump (1994)     Comedy|Drama|Romance|War\n",
       "318      Shawshank Redemption, The (1994)                  Crime|Drama\n",
       "296                   Pulp Fiction (1994)  Comedy|Crime|Drama|Thriller\n",
       "593      Silence of the Lambs, The (1991)        Crime|Horror|Thriller\n",
       "2571                   Matrix, The (1999)       Action|Sci-Fi|Thriller"
      ]
     },
     "execution_count": 38,
     "metadata": {},
     "output_type": "execute_result"
    }
   ],
   "source": [
    "# movies.loc[index, column]\n",
    "movies.loc[[356, 318, 296, 593, 2571]]"
   ]
  },
  {
   "cell_type": "markdown",
   "metadata": {},
   "source": [
    "겨울왕국 평점보기"
   ]
  },
  {
   "cell_type": "code",
   "execution_count": 39,
   "metadata": {},
   "outputs": [
    {
     "data": {
      "text/plain": [
       "title                                         Frozen (2013)\n",
       "genres    Adventure|Animation|Comedy|Fantasy|Musical|Rom...\n",
       "Name: 106696, dtype: object"
      ]
     },
     "execution_count": 39,
     "metadata": {},
     "output_type": "execute_result"
    }
   ],
   "source": [
    "movies.loc[106696]"
   ]
  },
  {
   "cell_type": "code",
   "execution_count": 43,
   "metadata": {},
   "outputs": [],
   "source": [
    "frozen = ratings[ratings['movieId'] == 106696]"
   ]
  },
  {
   "cell_type": "code",
   "execution_count": 44,
   "metadata": {},
   "outputs": [
    {
     "data": {
      "text/plain": [
       "29"
      ]
     },
     "execution_count": 44,
     "metadata": {},
     "output_type": "execute_result"
    }
   ],
   "source": [
    "len(frozen)"
   ]
  },
  {
   "cell_type": "code",
   "execution_count": 46,
   "metadata": {},
   "outputs": [
    {
     "data": {
      "text/plain": [
       "<AxesSubplot:>"
      ]
     },
     "execution_count": 46,
     "metadata": {},
     "output_type": "execute_result"
    },
    {
     "data": {
      "image/png": "[encoded data removed]",
      "text/plain": [
       "<Figure size 432x288 with 1 Axes>"
      ]
     },
     "metadata": {
      "needs_background": "light"
     },
     "output_type": "display_data"
    }
   ],
   "source": [
    "frozen['rating'].hist()"
   ]
  },
  {
   "cell_type": "code",
   "execution_count": 47,
   "metadata": {
    "scrolled": true
   },
   "outputs": [
    {
     "data": {
      "text/html": [
       "<div>\n",
       "<style scoped>\n",
       "    .dataframe tbody tr th:only-of-type {\n",
       "        vertical-align: middle;\n",
       "    }\n",
       "\n",
       "    .dataframe tbody tr th {\n",
       "        vertical-align: top;\n",
       "    }\n",
       "\n",
       "    .dataframe thead th {\n",
       "        text-align: right;\n",
       "    }\n",
       "</style>\n",
       "<table border=\"1\" class=\"dataframe\">\n",
       "  <thead>\n",
       "    <tr style=\"text-align: right;\">\n",
       "      <th></th>\n",
       "      <th>userId</th>\n",
       "      <th>movieId</th>\n",
       "      <th>rating</th>\n",
       "      <th>timestamp</th>\n",
       "    </tr>\n",
       "  </thead>\n",
       "  <tbody>\n",
       "    <tr>\n",
       "      <th>1245</th>\n",
       "      <td>10</td>\n",
       "      <td>106696</td>\n",
       "      <td>4.5</td>\n",
       "      <td>1455306204</td>\n",
       "    </tr>\n",
       "    <tr>\n",
       "      <th>3572</th>\n",
       "      <td>21</td>\n",
       "      <td>106696</td>\n",
       "      <td>4.0</td>\n",
       "      <td>1403460685</td>\n",
       "    </tr>\n",
       "    <tr>\n",
       "      <th>9418</th>\n",
       "      <td>63</td>\n",
       "      <td>106696</td>\n",
       "      <td>5.0</td>\n",
       "      <td>1443461176</td>\n",
       "    </tr>\n",
       "    <tr>\n",
       "      <th>16798</th>\n",
       "      <td>105</td>\n",
       "      <td>106696</td>\n",
       "      <td>3.5</td>\n",
       "      <td>1447563589</td>\n",
       "    </tr>\n",
       "    <tr>\n",
       "      <th>21852</th>\n",
       "      <td>141</td>\n",
       "      <td>106696</td>\n",
       "      <td>3.0</td>\n",
       "      <td>1513129988</td>\n",
       "    </tr>\n",
       "    <tr>\n",
       "      <th>21967</th>\n",
       "      <td>143</td>\n",
       "      <td>106696</td>\n",
       "      <td>4.0</td>\n",
       "      <td>1444768621</td>\n",
       "    </tr>\n",
       "    <tr>\n",
       "      <th>22567</th>\n",
       "      <td>153</td>\n",
       "      <td>106696</td>\n",
       "      <td>2.5</td>\n",
       "      <td>1525552648</td>\n",
       "    </tr>\n",
       "    <tr>\n",
       "      <th>23219</th>\n",
       "      <td>159</td>\n",
       "      <td>106696</td>\n",
       "      <td>3.0</td>\n",
       "      <td>1508640298</td>\n",
       "    </tr>\n",
       "    <tr>\n",
       "      <th>25783</th>\n",
       "      <td>177</td>\n",
       "      <td>106696</td>\n",
       "      <td>5.0</td>\n",
       "      <td>1435529765</td>\n",
       "    </tr>\n",
       "    <tr>\n",
       "      <th>35769</th>\n",
       "      <td>241</td>\n",
       "      <td>106696</td>\n",
       "      <td>4.0</td>\n",
       "      <td>1447540037</td>\n",
       "    </tr>\n",
       "    <tr>\n",
       "      <th>37282</th>\n",
       "      <td>249</td>\n",
       "      <td>106696</td>\n",
       "      <td>3.5</td>\n",
       "      <td>1396222978</td>\n",
       "    </tr>\n",
       "    <tr>\n",
       "      <th>37490</th>\n",
       "      <td>252</td>\n",
       "      <td>106696</td>\n",
       "      <td>4.5</td>\n",
       "      <td>1498284778</td>\n",
       "    </tr>\n",
       "    <tr>\n",
       "      <th>43914</th>\n",
       "      <td>292</td>\n",
       "      <td>106696</td>\n",
       "      <td>4.0</td>\n",
       "      <td>1421974328</td>\n",
       "    </tr>\n",
       "    <tr>\n",
       "      <th>46526</th>\n",
       "      <td>305</td>\n",
       "      <td>106696</td>\n",
       "      <td>4.0</td>\n",
       "      <td>1460303575</td>\n",
       "    </tr>\n",
       "    <tr>\n",
       "      <th>46686</th>\n",
       "      <td>306</td>\n",
       "      <td>106696</td>\n",
       "      <td>4.0</td>\n",
       "      <td>1518380586</td>\n",
       "    </tr>\n",
       "    <tr>\n",
       "      <th>49886</th>\n",
       "      <td>319</td>\n",
       "      <td>106696</td>\n",
       "      <td>4.5</td>\n",
       "      <td>1461351802</td>\n",
       "    </tr>\n",
       "    <tr>\n",
       "      <th>51345</th>\n",
       "      <td>331</td>\n",
       "      <td>106696</td>\n",
       "      <td>3.5</td>\n",
       "      <td>1537158456</td>\n",
       "    </tr>\n",
       "    <tr>\n",
       "      <th>53458</th>\n",
       "      <td>352</td>\n",
       "      <td>106696</td>\n",
       "      <td>2.0</td>\n",
       "      <td>1493674468</td>\n",
       "    </tr>\n",
       "    <tr>\n",
       "      <th>58821</th>\n",
       "      <td>382</td>\n",
       "      <td>106696</td>\n",
       "      <td>3.5</td>\n",
       "      <td>1515161464</td>\n",
       "    </tr>\n",
       "    <tr>\n",
       "      <th>77938</th>\n",
       "      <td>483</td>\n",
       "      <td>106696</td>\n",
       "      <td>4.0</td>\n",
       "      <td>1415575259</td>\n",
       "    </tr>\n",
       "    <tr>\n",
       "      <th>79732</th>\n",
       "      <td>495</td>\n",
       "      <td>106696</td>\n",
       "      <td>5.0</td>\n",
       "      <td>1458635883</td>\n",
       "    </tr>\n",
       "    <tr>\n",
       "      <th>80811</th>\n",
       "      <td>509</td>\n",
       "      <td>106696</td>\n",
       "      <td>4.5</td>\n",
       "      <td>1444255616</td>\n",
       "    </tr>\n",
       "    <tr>\n",
       "      <th>81910</th>\n",
       "      <td>517</td>\n",
       "      <td>106696</td>\n",
       "      <td>1.0</td>\n",
       "      <td>1487955739</td>\n",
       "    </tr>\n",
       "    <tr>\n",
       "      <th>83064</th>\n",
       "      <td>525</td>\n",
       "      <td>106696</td>\n",
       "      <td>3.5</td>\n",
       "      <td>1476476140</td>\n",
       "    </tr>\n",
       "    <tr>\n",
       "      <th>84033</th>\n",
       "      <td>534</td>\n",
       "      <td>106696</td>\n",
       "      <td>3.0</td>\n",
       "      <td>1459787998</td>\n",
       "    </tr>\n",
       "    <tr>\n",
       "      <th>88023</th>\n",
       "      <td>567</td>\n",
       "      <td>106696</td>\n",
       "      <td>0.5</td>\n",
       "      <td>1525289874</td>\n",
       "    </tr>\n",
       "    <tr>\n",
       "      <th>89900</th>\n",
       "      <td>583</td>\n",
       "      <td>106696</td>\n",
       "      <td>3.0</td>\n",
       "      <td>1481474420</td>\n",
       "    </tr>\n",
       "    <tr>\n",
       "      <th>90206</th>\n",
       "      <td>586</td>\n",
       "      <td>106696</td>\n",
       "      <td>5.0</td>\n",
       "      <td>1529899352</td>\n",
       "    </tr>\n",
       "    <tr>\n",
       "      <th>92080</th>\n",
       "      <td>596</td>\n",
       "      <td>106696</td>\n",
       "      <td>3.5</td>\n",
       "      <td>1535827238</td>\n",
       "    </tr>\n",
       "  </tbody>\n",
       "</table>\n",
       "</div>"
      ],
      "text/plain": [
       "       userId  movieId  rating   timestamp\n",
       "1245       10   106696     4.5  1455306204\n",
       "3572       21   106696     4.0  1403460685\n",
       "9418       63   106696     5.0  1443461176\n",
       "16798     105   106696     3.5  1447563589\n",
       "21852     141   106696     3.0  1513129988\n",
       "21967     143   106696     4.0  1444768621\n",
       "22567     153   106696     2.5  1525552648\n",
       "23219     159   106696     3.0  1508640298\n",
       "25783     177   106696     5.0  1435529765\n",
       "35769     241   106696     4.0  1447540037\n",
       "37282     249   106696     3.5  1396222978\n",
       "37490     252   106696     4.5  1498284778\n",
       "43914     292   106696     4.0  1421974328\n",
       "46526     305   106696     4.0  1460303575\n",
       "46686     306   106696     4.0  1518380586\n",
       "49886     319   106696     4.5  1461351802\n",
       "51345     331   106696     3.5  1537158456\n",
       "53458     352   106696     2.0  1493674468\n",
       "58821     382   106696     3.5  1515161464\n",
       "77938     483   106696     4.0  1415575259\n",
       "79732     495   106696     5.0  1458635883\n",
       "80811     509   106696     4.5  1444255616\n",
       "81910     517   106696     1.0  1487955739\n",
       "83064     525   106696     3.5  1476476140\n",
       "84033     534   106696     3.0  1459787998\n",
       "88023     567   106696     0.5  1525289874\n",
       "89900     583   106696     3.0  1481474420\n",
       "90206     586   106696     5.0  1529899352\n",
       "92080     596   106696     3.5  1535827238"
      ]
     },
     "execution_count": 47,
     "metadata": {},
     "output_type": "execute_result"
    }
   ],
   "source": [
    "frozen"
   ]
  },
  {
   "cell_type": "code",
   "execution_count": 56,
   "metadata": {
    "scrolled": false
   },
   "outputs": [
    {
     "data": {
      "text/html": [
       "<div>\n",
       "<style scoped>\n",
       "    .dataframe tbody tr th:only-of-type {\n",
       "        vertical-align: middle;\n",
       "    }\n",
       "\n",
       "    .dataframe tbody tr th {\n",
       "        vertical-align: top;\n",
       "    }\n",
       "\n",
       "    .dataframe thead th {\n",
       "        text-align: right;\n",
       "    }\n",
       "</style>\n",
       "<table border=\"1\" class=\"dataframe\">\n",
       "  <thead>\n",
       "    <tr style=\"text-align: right;\">\n",
       "      <th></th>\n",
       "      <th>userId</th>\n",
       "      <th>movieId</th>\n",
       "      <th>rating</th>\n",
       "      <th>timestamp</th>\n",
       "    </tr>\n",
       "  </thead>\n",
       "  <tbody>\n",
       "    <tr>\n",
       "      <th>87791</th>\n",
       "      <td>567</td>\n",
       "      <td>1</td>\n",
       "      <td>3.5</td>\n",
       "      <td>1525286001</td>\n",
       "    </tr>\n",
       "    <tr>\n",
       "      <th>87792</th>\n",
       "      <td>567</td>\n",
       "      <td>34</td>\n",
       "      <td>2.5</td>\n",
       "      <td>1525288053</td>\n",
       "    </tr>\n",
       "    <tr>\n",
       "      <th>87793</th>\n",
       "      <td>567</td>\n",
       "      <td>50</td>\n",
       "      <td>1.0</td>\n",
       "      <td>1525282012</td>\n",
       "    </tr>\n",
       "    <tr>\n",
       "      <th>87794</th>\n",
       "      <td>567</td>\n",
       "      <td>101</td>\n",
       "      <td>3.0</td>\n",
       "      <td>1525287210</td>\n",
       "    </tr>\n",
       "    <tr>\n",
       "      <th>87795</th>\n",
       "      <td>567</td>\n",
       "      <td>260</td>\n",
       "      <td>2.0</td>\n",
       "      <td>1525288368</td>\n",
       "    </tr>\n",
       "    <tr>\n",
       "      <th>...</th>\n",
       "      <td>...</td>\n",
       "      <td>...</td>\n",
       "      <td>...</td>\n",
       "      <td>...</td>\n",
       "    </tr>\n",
       "    <tr>\n",
       "      <th>88171</th>\n",
       "      <td>567</td>\n",
       "      <td>180031</td>\n",
       "      <td>4.0</td>\n",
       "      <td>1525284143</td>\n",
       "    </tr>\n",
       "    <tr>\n",
       "      <th>88172</th>\n",
       "      <td>567</td>\n",
       "      <td>180985</td>\n",
       "      <td>1.0</td>\n",
       "      <td>1525285297</td>\n",
       "    </tr>\n",
       "    <tr>\n",
       "      <th>88173</th>\n",
       "      <td>567</td>\n",
       "      <td>182823</td>\n",
       "      <td>1.0</td>\n",
       "      <td>1525289422</td>\n",
       "    </tr>\n",
       "    <tr>\n",
       "      <th>88174</th>\n",
       "      <td>567</td>\n",
       "      <td>183897</td>\n",
       "      <td>3.5</td>\n",
       "      <td>1525282061</td>\n",
       "    </tr>\n",
       "    <tr>\n",
       "      <th>88175</th>\n",
       "      <td>567</td>\n",
       "      <td>184253</td>\n",
       "      <td>0.5</td>\n",
       "      <td>1525289944</td>\n",
       "    </tr>\n",
       "  </tbody>\n",
       "</table>\n",
       "<p>385 rows × 4 columns</p>\n",
       "</div>"
      ],
      "text/plain": [
       "       userId  movieId  rating   timestamp\n",
       "87791     567        1     3.5  1525286001\n",
       "87792     567       34     2.5  1525288053\n",
       "87793     567       50     1.0  1525282012\n",
       "87794     567      101     3.0  1525287210\n",
       "87795     567      260     2.0  1525288368\n",
       "...       ...      ...     ...         ...\n",
       "88171     567   180031     4.0  1525284143\n",
       "88172     567   180985     1.0  1525285297\n",
       "88173     567   182823     1.0  1525289422\n",
       "88174     567   183897     3.5  1525282061\n",
       "88175     567   184253     0.5  1525289944\n",
       "\n",
       "[385 rows x 4 columns]"
      ]
     },
     "execution_count": 56,
     "metadata": {},
     "output_type": "execute_result"
    }
   ],
   "source": [
    "ratings[ratings['userId'] == 567]"
   ]
  },
  {
   "cell_type": "code",
   "execution_count": 58,
   "metadata": {},
   "outputs": [
    {
     "data": {
      "text/plain": [
       "<AxesSubplot:>"
      ]
     },
     "execution_count": 58,
     "metadata": {},
     "output_type": "execute_result"
    },
    {
     "data": {
      "image/png": "[encoded data removed]",
      "text/plain": [
       "<Figure size 432x288 with 1 Axes>"
      ]
     },
     "metadata": {
      "needs_background": "light"
     },
     "output_type": "display_data"
    }
   ],
   "source": [
    "# 평점을 대체로 낮게 주는 특징인\n",
    "ratings.loc[ratings['userId'] == 567, 'rating'].hist()"
   ]
  }
 ],
 "metadata": {
  "kernelspec": {
   "display_name": "Python 3",
   "language": "python",
   "name": "python3"
  },
  "language_info": {
   "codemirror_mode": {
    "name": "ipython",
    "version": 3
   },
   "file_extension": ".py",
   "mimetype": "text/x-python",
   "name": "python",
   "nbconvert_exporter": "python",
   "pygments_lexer": "ipython3",
   "version": "3.8.5"
  }
 },
 "nbformat": 4,
 "nbformat_minor": 4
}
